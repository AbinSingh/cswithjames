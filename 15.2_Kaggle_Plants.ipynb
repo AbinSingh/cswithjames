{
 "cells": [
  {
   "cell_type": "markdown",
   "metadata": {},
   "source": [
    "In this file we are going to resize the Data into same size, so that we can feed the training data to Neural Net\n",
    "\n",
    "We are going to use the OpenCV to resize the image"
   ]
  },
  {
   "cell_type": "code",
   "execution_count": 3,
   "metadata": {},
   "outputs": [],
   "source": [
    "import cv2\n",
    "import os"
   ]
  },
  {
   "cell_type": "code",
   "execution_count": 5,
   "metadata": {},
   "outputs": [
    {
     "name": "stdout",
     "output_type": "stream",
     "text": [
      "Cleavers\n",
      "Sugar beet\n",
      "Common Chickweed\n",
      "Loose Silky-bent\n",
      "Scentless Mayweed\n",
      "Shepherds Purse\n",
      "Fat Hen\n",
      "Common wheat\n",
      "Black-grass\n",
      "Small-flowered Cranesbill\n",
      "Charlock\n",
      "Maize\n",
      "12\n"
     ]
    }
   ],
   "source": [
    "raw_dir = \"plants/raw/\"\n",
    "file_list = os.listdir(raw_dir)\n",
    "class_name = []\n",
    "for name in file_list:\n",
    "    if not name.startswith('.'):\n",
    "        class_name.append(name)\n",
    "        \n",
    "for name in class_name:\n",
    "    print(name)\n",
    "    \n",
    "num_classes = len(class_name)\n",
    "print(num_classes)"
   ]
  },
  {
   "cell_type": "markdown",
   "metadata": {},
   "source": [
    "Make the resized folder to store all the resized image data\n",
    "\n",
    "Python will Throw error if the folder is already exist, so check for the the existency'\n",
    "\n",
    "If the folder is already exist python will not create the folder"
   ]
  },
  {
   "cell_type": "code",
   "execution_count": 12,
   "metadata": {},
   "outputs": [],
   "source": [
    "resize_dir = \"plants/resized/\"\n",
    "\n",
    "if not os.path.exists(resize_dir):\n",
    "    os.mkdir(resize_dir)\n",
    "\n",
    "for name in class_name:\n",
    "    class_dir = resize_dir + name + \"/\"\n",
    "    if not os.path.exists(class_dir):\n",
    "        os.mkdir(class_dir)"
   ]
  },
  {
   "cell_type": "code",
   "execution_count": null,
   "metadata": {},
   "outputs": [],
   "source": []
  }
 ],
 "metadata": {
  "kernelspec": {
   "display_name": "Python 3",
   "language": "python",
   "name": "python3"
  },
  "language_info": {
   "codemirror_mode": {
    "name": "ipython",
    "version": 3
   },
   "file_extension": ".py",
   "mimetype": "text/x-python",
   "name": "python",
   "nbconvert_exporter": "python",
   "pygments_lexer": "ipython3",
   "version": "3.6.4"
  }
 },
 "nbformat": 4,
 "nbformat_minor": 2
}
